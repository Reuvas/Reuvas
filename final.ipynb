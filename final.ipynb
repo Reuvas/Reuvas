{
  "nbformat": 4,
  "nbformat_minor": 0,
  "metadata": {
    "colab": {
      "name": "final.ipynb",
      "provenance": [],
      "authorship_tag": "ABX9TyNEnV8j/sILbWZq3qcvyk7Y",
      "include_colab_link": true
    },
    "kernelspec": {
      "name": "python3",
      "display_name": "Python 3"
    },
    "language_info": {
      "name": "python"
    }
  },
  "cells": [
    {
      "cell_type": "markdown",
      "metadata": {
        "id": "view-in-github",
        "colab_type": "text"
      },
      "source": [
        "<a href=\"https://colab.research.google.com/github/Reuvas/Reuvas/blob/main/final.ipynb\" target=\"_parent\"><img src=\"https://colab.research.google.com/assets/colab-badge.svg\" alt=\"Open In Colab\"/></a>"
      ]
    },
    {
      "cell_type": "markdown",
      "source": [
        "What I want is to score all the data, and a **weighted calculation** with a higher proportion of the data selected by myself"
      ],
      "metadata": {
        "id": "jXCNsPBN_Kgg"
      }
    },
    {
      "cell_type": "markdown",
      "source": [
        "for restaurants, it may be the number of reviews, the safety score, then I will increase their weight in the calculation, for example, the score of all reviews will be increased by 10%. \n",
        "\n",
        "The program trained in this way will predict more satisfactory results, and at the same time, since I only need two input data in the final step, it makes my program more convenient to write"
      ],
      "metadata": {
        "id": "ZVTKsamz_fyu"
      }
    },
    {
      "cell_type": "markdown",
      "source": [
        "First, we import the sklearn library."
      ],
      "metadata": {
        "id": "UVCmQdFg87Jy"
      }
    },
    {
      "cell_type": "code",
      "source": [
        "from sklearn import linear_model\n",
        "\n",
        "from sklearn import svm"
      ],
      "metadata": {
        "id": "9vjBMc9_8_2K"
      },
      "execution_count": null,
      "outputs": []
    },
    {
      "cell_type": "markdown",
      "source": [
        "result = \"dollars\" * -0.5 + \"health score\" * -1 + \"reervation\" * 5 + pets allowed\" * 3 + free wi-fi\" * 7 "
      ],
      "metadata": {
        "id": "7_2fbcvkTB2a"
      }
    },
    {
      "cell_type": "markdown",
      "source": [
        "reviews = number of reviews * 1.1"
      ],
      "metadata": {
        "id": "yhYziL_5bVCi"
      }
    },
    {
      "cell_type": "code",
      "source": [
        "input_data = [\n",
        "    [-1,1607.1],\n",
        "    [8,3787.3],\n",
        "    [8,1343.1],\n",
        "    [8.5,2999.7]\n",
        "\n",
        "]\n",
        "\n",
        "output_data = [4.5 ,4.5,4,4.5]"
      ],
      "metadata": {
        "id": "x3XJwvngUR_U"
      },
      "execution_count": null,
      "outputs": []
    },
    {
      "cell_type": "code",
      "source": [
        "model = linear_model.LinearRegression()\n",
        "\n",
        "model.fit(input_data, output_data)"
      ],
      "metadata": {
        "colab": {
          "base_uri": "https://localhost:8080/"
        },
        "id": "yj-oHxaXW8Ot",
        "outputId": "ef8e7991-20d1-4955-9b95-48ef082c2f4a"
      },
      "execution_count": null,
      "outputs": [
        {
          "output_type": "execute_result",
          "data": {
            "text/plain": [
              "LinearRegression()"
            ]
          },
          "metadata": {},
          "execution_count": 7
        }
      ]
    },
    {
      "cell_type": "code",
      "source": [
        "print(model.predict([ [8, 9999] ]))"
      ],
      "metadata": {
        "colab": {
          "base_uri": "https://localhost:8080/"
        },
        "id": "YIXG246SW-Sf",
        "outputId": "6827c376-c247-40aa-97b8-a248e407b32a"
      },
      "execution_count": null,
      "outputs": [
        {
          "output_type": "stream",
          "name": "stdout",
          "text": [
            "[5.94131924]\n"
          ]
        }
      ]
    },
    {
      "cell_type": "code",
      "source": [
        "price = int(input(\"whtats the average price level?\"))\n",
        "health = int(input(\"whtats the helth score?\"))\n",
        "resva = int(input(\"do they take reservation?\"))\n",
        "pet = int(input(\"Are pets allowed?\"))\n",
        "wifi = int(input(\"Do they have free Wi-Fi?\"))\n",
        "review = int(input(\"How many revies do they got?\"))\n",
        "\n",
        "result = (price * -0.5 + health * -1 + resva * 5 + pet * 3 + wifi * 7 )\n",
        "\n"
      ],
      "metadata": {
        "colab": {
          "base_uri": "https://localhost:8080/"
        },
        "id": "Cc18r5alYC4-",
        "outputId": "f125a3c5-3d54-4427-897b-1266e1e22ea8"
      },
      "execution_count": null,
      "outputs": [
        {
          "name": "stdout",
          "output_type": "stream",
          "text": [
            "whtats the average price level?6\n",
            "whtats the helth score?2\n",
            "do they take reservation?1\n",
            "Are pets allowed?0\n",
            "Do they have free Wi-Fi?1\n",
            "How many revies do they got?4620\n"
          ]
        }
      ]
    },
    {
      "cell_type": "code",
      "source": [
        "print(model.predict([ [result, review*1.1] ]))"
      ],
      "metadata": {
        "colab": {
          "base_uri": "https://localhost:8080/"
        },
        "id": "Nh2r2eYNZYJW",
        "outputId": "6342744c-0008-4ff9-d1d9-5cd0d75de3b2"
      },
      "execution_count": null,
      "outputs": [
        {
          "output_type": "stream",
          "name": "stdout",
          "text": [
            "[4.90658757]\n"
          ]
        }
      ]
    }
  ]
}